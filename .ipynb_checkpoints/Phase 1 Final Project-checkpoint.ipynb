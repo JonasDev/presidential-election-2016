{
 "cells": [
  {
   "cell_type": "code",
   "execution_count": 84,
   "metadata": {
    "collapsed": true
   },
   "outputs": [],
   "source": [
    "# this is the notebook for clustering states according to their demographics\n",
    "# first we will find the most deciding attributes on a state level\n",
    "# then we will rank these attributes (features)\n",
    "# and then we will cluster states"
   ]
  },
  {
   "cell_type": "code",
   "execution_count": 85,
   "metadata": {
    "collapsed": false
   },
   "outputs": [],
   "source": [
    "import pandas as pd\n",
    "import sklearn\n",
    "\n",
    "from sklearn import datasets\n",
    "from sklearn import metrics\n",
    "from sklearn.ensemble import ExtraTreesClassifier"
   ]
  },
  {
   "cell_type": "code",
   "execution_count": 86,
   "metadata": {
    "collapsed": true
   },
   "outputs": [],
   "source": [
    "# ranked_dataset is our master dataset that we will cluster over\n",
    "# we clone our original dataset, and replace all values with zero, before replacing them with their rank"
   ]
  },
  {
   "cell_type": "code",
   "execution_count": 87,
   "metadata": {
    "collapsed": false
   },
   "outputs": [],
   "source": [
    "cf = pd.read_csv(\"notebooks/county_facts_with_2012_winner.csv\")\n",
    "# cf\n",
    "list_of_states = cf[\"state_abbreviation\"].unique()\n",
    "# print list_of_states"
   ]
  },
  {
   "cell_type": "code",
   "execution_count": 88,
   "metadata": {
    "collapsed": false
   },
   "outputs": [],
   "source": [
    "# print cf\n",
    "cf = cf.drop(\"Gingrich\", 1)\n",
    "cf = cf.drop(\"Santorum\", 1)\n",
    "cf = cf.drop(\"Romney\", 1)\n",
    "cf = cf.drop(\"Paul\", 1)\n",
    "cf = cf.drop(\"fips\", 1)\n",
    "cf = cf.drop(\"area_name\", 1)\n",
    "\n",
    "# print cf"
   ]
  },
  {
   "cell_type": "code",
   "execution_count": 89,
   "metadata": {
    "collapsed": false
   },
   "outputs": [
    {
     "name": "stdout",
     "output_type": "stream",
     "text": [
      "[ 0.  0.  0.  0.  0.  0.  0.  0.  0.  0.  0.  0.  0.  0.  0.  0.  0.  0.\n",
      "  0.  0.  0.  0.  0.  0.  0.  0.  0.  0.  0.  0.  0.  0.  0.  0.  0.  0.\n",
      "  0.  0.  0.  0.  0.  0.  0.  0.  0.  0.  0.  0.  0.  0.  0.]\n",
      "[ 0.  0.  0.  0.  0.  0.  0.  0.  0.  0.  0.  0.  0.  0.  0.  0.  0.  0.\n",
      "  0.  0.  0.  0.  0.  0.  0.  0.  0.  0.  0.  0.  0.  0.  0.  0.  0.  0.\n",
      "  0.  0.  0.  0.  0.  0.  0.  0.  0.  0.  0.  0.  0.  0.  0.]\n",
      "[ 0.  0.  0.  0.  0.  0.  0.  0.  0.  0.  0.  0.  0.  0.  0.  0.  0.  0.\n",
      "  0.  0.  0.  0.  0.  0.  0.  0.  0.  0.  0.  0.  0.  0.  0.  0.  0.  0.\n",
      "  0.  0.  0.  0.  0.  0.  0.  0.  0.  0.  0.  0.  0.  0.  0.]\n"
     ]
    }
   ],
   "source": [
    "# for each state, find and rank attributes\n",
    "for i in list_of_states[1:4]:\n",
    "    \n",
    "    state_data_winner = cf[cf[\"state_abbreviation\"]==i]['winner']    \n",
    "    state_data = cf[cf[\"state_abbreviation\"]==i]\n",
    "    state_data = state_data.drop(\"state_abbreviation\", 1)\n",
    "    state_data = state_data.drop(\"winner\", 1)\n",
    "    \n",
    "#   print state_data\n",
    "    \n",
    "    model = ExtraTreesClassifier()\n",
    "    model.fit(state_data.as_matrix(), state_data_winner.as_matrix())\n",
    "    print (model.feature_importances_)\n",
    "#     ranked_dataset[[i]][features] = features_importances_\n",
    "    \n",
    "# print ranked_dataset"
   ]
  },
  {
   "cell_type": "code",
   "execution_count": null,
   "metadata": {
    "collapsed": true
   },
   "outputs": [],
   "source": [
    "# # Feature Importance\n",
    "# from sklearn import datasets\n",
    "# from sklearn import metrics\n",
    "# from sklearn.ensemble import ExtraTreesClassifier\n",
    "# # load the iris datasets\n",
    "# dataset = datasets.load_iris()\n",
    "# # fit an Extra Trees model to the data\n",
    "# model = ExtraTreesClassifier()\n",
    "# model.fit(dataset.data, dataset.target)\n",
    "# # display the relative importance of each attribute\n",
    "# print(model.feature_importances_)"
   ]
  }
 ],
 "metadata": {
  "kernelspec": {
   "display_name": "Python 2",
   "language": "python",
   "name": "python2"
  },
  "language_info": {
   "codemirror_mode": {
    "name": "ipython",
    "version": 2
   },
   "file_extension": ".py",
   "mimetype": "text/x-python",
   "name": "python",
   "nbconvert_exporter": "python",
   "pygments_lexer": "ipython2",
   "version": "2.7.10"
  }
 },
 "nbformat": 4,
 "nbformat_minor": 0
}
