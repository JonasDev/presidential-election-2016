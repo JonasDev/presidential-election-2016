{
 "cells": [
  {
   "cell_type": "code",
   "execution_count": 66,
   "metadata": {
    "collapsed": false
   },
   "outputs": [],
   "source": [
    "import pandas as pd\n",
    "\n",
    "list_of_clusters = [\"cluster_0\", \"cluster_1\", \"cluster_2\", \"cluster_3\"]\n",
    "\n",
    "allcounties = pd.read_csv('notebooks/clusterResults_0.csv')\n",
    "\n",
    "cols_to_norm = ['Donald Trump','John Kasich', 'Ted Cruz']\n",
    "allcounties[\"sum\"] = allcounties[cols_to_norm].sum(axis=1)\n",
    "allcounties[cols_to_norm] = allcounties[cols_to_norm].div(allcounties[\"sum\"], axis=\"index\")\n",
    "allcounties[\"sum\"] = allcounties[cols_to_norm].sum(axis=1)\n",
    "allcounties[\"winner\"] = allcounties[cols_to_norm].idxmax(axis=1)\n",
    "\n",
    "allcounties\n",
    "\n",
    "for i in list_of_clusters[1:]:\n",
    "    cluster_temp = i\n",
    "    cluster_temp = pd.read_csv('notebooks/clusterResults_'+ i[-1] +'.csv')\n",
    "\n",
    "    cols_to_norm = ['Donald Trump','John Kasich', 'Ted Cruz']\n",
    "    cluster_temp[\"sum\"] = cluster_temp[cols_to_norm].sum(axis=1)\n",
    "    cluster_temp[cols_to_norm] = cluster_temp[cols_to_norm].div(cluster_temp[\"sum\"], axis=\"index\")\n",
    "    cluster_temp[\"sum\"] = cluster_temp[cols_to_norm].sum(axis=1)\n",
    "    cluster_temp[\"winner\"] = cluster_temp[cols_to_norm].idxmax(axis=1)\n",
    "    \n",
    "    allcounties = pd.concat([allcounties, cluster_temp])\n",
    "\n",
    "allcounties.to_csv('county_predictions.csv')"
   ]
  },
  {
   "cell_type": "code",
   "execution_count": null,
   "metadata": {
    "collapsed": true
   },
   "outputs": [],
   "source": []
  }
 ],
 "metadata": {
  "kernelspec": {
   "display_name": "Python 2",
   "language": "python",
   "name": "python2"
  },
  "language_info": {
   "codemirror_mode": {
    "name": "ipython",
    "version": 2
   },
   "file_extension": ".py",
   "mimetype": "text/x-python",
   "name": "python",
   "nbconvert_exporter": "python",
   "pygments_lexer": "ipython2",
   "version": "2.7.10"
  }
 },
 "nbformat": 4,
 "nbformat_minor": 0
}
