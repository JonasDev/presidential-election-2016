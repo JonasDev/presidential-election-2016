{
 "cells": [
  {
   "cell_type": "code",
   "execution_count": 272,
   "metadata": {
    "collapsed": true
   },
   "outputs": [],
   "source": [
    "import pandas as pd\n",
    "import sklearn\n",
    "import numpy as np\n",
    "\n",
    "from sklearn import datasets\n",
    "from sklearn import metrics\n",
    "from sklearn.ensemble import ExtraTreesClassifier\n",
    "\n",
    "from sklearn import metrics\n",
    "from sklearn.metrics import pairwise_distances\n",
    "from sklearn.cluster import KMeans"
   ]
  },
  {
   "cell_type": "code",
   "execution_count": 273,
   "metadata": {
    "collapsed": false
   },
   "outputs": [],
   "source": [
    "cf = pd.read_csv(\"notebooks/county_facts_with_2012_winner.csv\")\n",
    "\n",
    "# get array of fipscodes to later assign as labels by county\n",
    "fipscodes = cf[\"fips\"].values\n",
    "winner = cf[\"winner\"].values"
   ]
  },
  {
   "cell_type": "code",
   "execution_count": 274,
   "metadata": {
    "collapsed": false
   },
   "outputs": [],
   "source": [
    "# list of attributes that are the most important according to weka\n",
    "weka_list = [\"SEX255214\", \"RHI125214\", \"RHI225214\",\"RHI625214\", \"RHI725214\", \n",
    "            \"RHI825214\", \"POP815213\", \"EDU635213\", \"LFE305213\",\"HSG495213\",\n",
    "            \"HSD310213\",\"INC910213\",\"PVY020213\",\"SBO415207\", \"RTN131207\",\"LND110210\", \"POP060210\"]"
   ]
  },
  {
   "cell_type": "code",
   "execution_count": 275,
   "metadata": {
    "collapsed": false
   },
   "outputs": [
    {
     "name": "stdout",
     "output_type": "stream",
     "text": [
      "242\n",
      "1747\n",
      "56\n",
      "912\n"
     ]
    }
   ],
   "source": [
    "# remember the state abbreviations for later (since we need only numeric values)\n",
    "y = cf[\"state_abbreviation\"].values\n",
    "cf = cf.drop(['state_abbreviation'], axis=1)\n",
    "\n",
    "# our table is now only numeric values\n",
    "cf = cf[weka_list]\n",
    "\n",
    "# ???\n",
    "newcf_norm = (cf - cf.mean()) / (cf.max() - cf.min())\n",
    "newcf_norm = newcf_norm.div(newcf_norm.sum(axis=1), axis=0)\n",
    "\n",
    "X = cf.as_matrix() # take our dataframe as numpy matrix\n",
    "kmeans_model = KMeans(n_clusters=4, random_state=1).fit(X) # build model\n",
    "labels = kmeans_model.labels_ # our cluster labels\n",
    "clusters = pd.DataFrame(labels, fipscodes) # our reformed dataset, matching the clusters to the fips codes\n",
    "clusters = clusters.reset_index() \n",
    "clusters.columns = ['fips', 'cluster']\n",
    "clusters # two columns, [fips, cluster]\n",
    "\n",
    "for i in range(0, 4): # print the size of each cluster\n",
    "    print len(clusters.loc[clusters['cluster'] == i])"
   ]
  },
  {
   "cell_type": "code",
   "execution_count": 321,
   "metadata": {
    "collapsed": false
   },
   "outputs": [
    {
     "name": "stdout",
     "output_type": "stream",
     "text": [
      "EDU635213    0.093123\n",
      "RHI625214    0.089107\n",
      "LFE305213    0.081954\n",
      "RHI825214    0.080428\n",
      "SEX255214    0.074588\n",
      "HSD310213    0.062738\n",
      "PVY020213    0.060256\n",
      "HSG495213    0.057637\n",
      "LND110210    0.054935\n",
      "RHI125214    0.048637\n",
      "RHI225214    0.046067\n",
      "RTN131207    0.044447\n",
      "SBO415207    0.043831\n",
      "POP815213    0.042037\n",
      "POP060210    0.041320\n",
      "RHI725214    0.040967\n",
      "INC910213    0.037929\n",
      "Name: 0, dtype: float64\n",
      "RHI825214    0.076732\n",
      "RHI225214    0.074591\n",
      "RHI625214    0.072467\n",
      "LND110210    0.067791\n",
      "RHI125214    0.066577\n",
      "EDU635213    0.066383\n",
      "RHI725214    0.066064\n",
      "HSG495213    0.059875\n",
      "PVY020213    0.058466\n",
      "POP815213    0.058058\n",
      "POP060210    0.057094\n",
      "HSD310213    0.056925\n",
      "LFE305213    0.053519\n",
      "INC910213    0.053141\n",
      "SEX255214    0.051037\n",
      "RTN131207    0.046149\n",
      "SBO415207    0.015132\n",
      "Name: 1, dtype: float64\n",
      "EDU635213    0.158687\n",
      "LFE305213    0.145626\n",
      "RHI225214    0.127121\n",
      "POP815213    0.099533\n",
      "RTN131207    0.093049\n",
      "RHI125214    0.060745\n",
      "PVY020213    0.056071\n",
      "RHI725214    0.045931\n",
      "RHI825214    0.040251\n",
      "POP060210    0.036690\n",
      "HSD310213    0.035453\n",
      "LND110210    0.030161\n",
      "INC910213    0.029511\n",
      "RHI625214    0.021525\n",
      "SBO415207    0.015362\n",
      "SEX255214    0.002960\n",
      "HSG495213    0.001324\n",
      "Name: 2, dtype: float64\n",
      "HSD310213    0.073696\n",
      "RHI225214    0.072560\n",
      "HSG495213    0.066101\n",
      "RHI725214    0.065962\n",
      "RHI125214    0.061930\n",
      "LND110210    0.060922\n",
      "RHI825214    0.060530\n",
      "RTN131207    0.058377\n",
      "EDU635213    0.058101\n",
      "RHI625214    0.057990\n",
      "INC910213    0.056496\n",
      "LFE305213    0.056153\n",
      "POP815213    0.056115\n",
      "POP060210    0.055478\n",
      "PVY020213    0.054977\n",
      "SEX255214    0.046436\n",
      "SBO415207    0.038176\n",
      "Name: 3, dtype: float64\n"
     ]
    }
   ],
   "source": [
    "cf[\"fips\"] = fipscodes\n",
    "cf[\"cluster\"] = clusters['cluster']\n",
    "cf[\"winner\"] = winner\n",
    "\n",
    "fi = pd.DataFrame() # create empty dataframe\n",
    "\n",
    "for i in range(0,4):\n",
    "    clustered_facts_grouped = cf[cf[\"cluster\"]==i] # groupby cluster\n",
    "    \n",
    "    clustered_facts_grouped = (clustered_facts_grouped - clustered_facts_grouped.mean()) / (clustered_facts_grouped.max() - clustered_facts_grouped.min())\n",
    "    clustered_facts_grouped = clustered_facts_grouped.div(clustered_facts_grouped.sum(axis=1), axis=0)\n",
    "\n",
    "    y = clustered_facts_grouped[\"winner\"]\n",
    "    clustered_facts_grouped = clustered_facts_grouped.drop(['fips', 'cluster', 'winner'], axis=1)\n",
    "\n",
    "    X = clustered_facts_grouped.as_matrix()\n",
    "        \n",
    "    model = ExtraTreesClassifier() \n",
    "    model.fit(X, y) # find which features, in this cluster, were most beneficial to determining the winner\n",
    "\n",
    "    z = pd.Series(model.feature_importances_)\n",
    "    fi = fi.append(z, ignore_index=True)\n",
    "    \n",
    "fi.columns = weka_list\n",
    "for index, row in fi.iterrows():\n",
    "    a = row.sort_values(ascending=False)\n",
    "    print a"
   ]
  },
  {
   "cell_type": "code",
   "execution_count": null,
   "metadata": {
    "collapsed": true
   },
   "outputs": [],
   "source": []
  }
 ],
 "metadata": {
  "kernelspec": {
   "display_name": "Python 2",
   "language": "python",
   "name": "python2"
  },
  "language_info": {
   "codemirror_mode": {
    "name": "ipython",
    "version": 2
   },
   "file_extension": ".py",
   "mimetype": "text/x-python",
   "name": "python",
   "nbconvert_exporter": "python",
   "pygments_lexer": "ipython2",
   "version": "2.7.10"
  }
 },
 "nbformat": 4,
 "nbformat_minor": 0
}
