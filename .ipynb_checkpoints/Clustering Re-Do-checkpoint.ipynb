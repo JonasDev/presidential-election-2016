{
 "cells": [
  {
   "cell_type": "code",
   "execution_count": 272,
   "metadata": {
    "collapsed": true
   },
   "outputs": [],
   "source": [
    "import pandas as pd\n",
    "import sklearn\n",
    "import numpy as np\n",
    "\n",
    "from sklearn import datasets\n",
    "from sklearn import metrics\n",
    "from sklearn.ensemble import ExtraTreesClassifier\n",
    "\n",
    "from sklearn import metrics\n",
    "from sklearn.metrics import pairwise_distances\n",
    "from sklearn.cluster import KMeans"
   ]
  },
  {
   "cell_type": "code",
   "execution_count": 273,
   "metadata": {
    "collapsed": false
   },
   "outputs": [],
   "source": [
    "cf = pd.read_csv(\"notebooks/county_facts_with_2012_winner.csv\")\n",
    "\n",
    "# get array of fipscodes to later assign as labels by county\n",
    "fipscodes = cf[\"fips\"].values\n",
    "winner = cf[\"winner\"].values"
   ]
  },
  {
   "cell_type": "code",
   "execution_count": 274,
   "metadata": {
    "collapsed": false
   },
   "outputs": [],
   "source": [
    "# list of attributes that are the most important according to weka\n",
    "weka_list = [\"SEX255214\", \"RHI125214\", \"RHI225214\",\"RHI625214\", \"RHI725214\", \n",
    "            \"RHI825214\", \"POP815213\", \"EDU635213\", \"LFE305213\",\"HSG495213\",\n",
    "            \"HSD310213\",\"INC910213\",\"PVY020213\",\"SBO415207\", \"RTN131207\",\"LND110210\", \"POP060210\"]"
   ]
  },
  {
   "cell_type": "code",
   "execution_count": 275,
   "metadata": {
    "collapsed": false
   },
   "outputs": [
    {
     "name": "stdout",
     "output_type": "stream",
     "text": [
      "242\n",
      "1747\n",
      "56\n",
      "912\n"
     ]
    }
   ],
   "source": [
    "# remember the state abbreviations for later (since we need only numeric values)\n",
    "y = cf[\"state_abbreviation\"].values\n",
    "cf = cf.drop(['state_abbreviation'], axis=1)\n",
    "\n",
    "# our table is now only numeric values\n",
    "cf = cf[weka_list]\n",
    "\n",
    "# ???\n",
    "newcf_norm = (cf - cf.mean()) / (cf.max() - cf.min())\n",
    "newcf_norm = newcf_norm.div(newcf_norm.sum(axis=1), axis=0)\n",
    "\n",
    "X = cf.as_matrix() # take our dataframe as numpy matrix\n",
    "kmeans_model = KMeans(n_clusters=4, random_state=1).fit(X) # build model\n",
    "labels = kmeans_model.labels_ # our cluster labels\n",
    "clusters = pd.DataFrame(labels, fipscodes) # our reformed dataset, matching the clusters to the fips codes\n",
    "clusters = clusters.reset_index() \n",
    "clusters.columns = ['fips', 'cluster']\n",
    "clusters # two columns, [fips, cluster]\n",
    "\n",
    "for i in range(0, 4): # print the size of each cluster\n",
    "    print len(clusters.loc[clusters['cluster'] == i])"
   ]
  },
  {
   "cell_type": "code",
   "execution_count": 294,
   "metadata": {
    "collapsed": false
   },
   "outputs": [
    {
     "data": {
      "text/html": [
       "<div>\n",
       "<table border=\"1\" class=\"dataframe\">\n",
       "  <thead>\n",
       "    <tr style=\"text-align: right;\">\n",
       "      <th></th>\n",
       "      <th>SEX255214</th>\n",
       "      <th>RHI125214</th>\n",
       "      <th>RHI225214</th>\n",
       "      <th>RHI625214</th>\n",
       "      <th>RHI725214</th>\n",
       "      <th>RHI825214</th>\n",
       "      <th>POP815213</th>\n",
       "      <th>EDU635213</th>\n",
       "      <th>LFE305213</th>\n",
       "      <th>HSG495213</th>\n",
       "      <th>HSD310213</th>\n",
       "      <th>INC910213</th>\n",
       "      <th>PVY020213</th>\n",
       "      <th>SBO415207</th>\n",
       "      <th>RTN131207</th>\n",
       "      <th>LND110210</th>\n",
       "      <th>POP060210</th>\n",
       "    </tr>\n",
       "  </thead>\n",
       "  <tbody>\n",
       "    <tr>\n",
       "      <th>0</th>\n",
       "      <td>0.069812</td>\n",
       "      <td>0.047176</td>\n",
       "      <td>0.038755</td>\n",
       "      <td>0.081446</td>\n",
       "      <td>0.052123</td>\n",
       "      <td>0.058306</td>\n",
       "      <td>0.057875</td>\n",
       "      <td>0.085359</td>\n",
       "      <td>0.065200</td>\n",
       "      <td>0.039905</td>\n",
       "      <td>0.059446</td>\n",
       "      <td>0.083528</td>\n",
       "      <td>0.058375</td>\n",
       "      <td>0.030336</td>\n",
       "      <td>0.046750</td>\n",
       "      <td>0.069325</td>\n",
       "      <td>0.056282</td>\n",
       "    </tr>\n",
       "    <tr>\n",
       "      <th>1</th>\n",
       "      <td>0.045335</td>\n",
       "      <td>0.075424</td>\n",
       "      <td>0.076133</td>\n",
       "      <td>0.073636</td>\n",
       "      <td>0.063798</td>\n",
       "      <td>0.066185</td>\n",
       "      <td>0.054923</td>\n",
       "      <td>0.065842</td>\n",
       "      <td>0.056649</td>\n",
       "      <td>0.056598</td>\n",
       "      <td>0.055054</td>\n",
       "      <td>0.050070</td>\n",
       "      <td>0.053984</td>\n",
       "      <td>0.015311</td>\n",
       "      <td>0.050404</td>\n",
       "      <td>0.078507</td>\n",
       "      <td>0.062146</td>\n",
       "    </tr>\n",
       "    <tr>\n",
       "      <th>2</th>\n",
       "      <td>0.045232</td>\n",
       "      <td>0.124081</td>\n",
       "      <td>0.152305</td>\n",
       "      <td>0.058251</td>\n",
       "      <td>0.022482</td>\n",
       "      <td>0.074343</td>\n",
       "      <td>0.058101</td>\n",
       "      <td>0.038295</td>\n",
       "      <td>0.015816</td>\n",
       "      <td>0.009031</td>\n",
       "      <td>0.014093</td>\n",
       "      <td>0.031773</td>\n",
       "      <td>0.107314</td>\n",
       "      <td>0.042946</td>\n",
       "      <td>0.127470</td>\n",
       "      <td>0.054636</td>\n",
       "      <td>0.023830</td>\n",
       "    </tr>\n",
       "    <tr>\n",
       "      <th>3</th>\n",
       "      <td>0.050802</td>\n",
       "      <td>0.057159</td>\n",
       "      <td>0.068486</td>\n",
       "      <td>0.055717</td>\n",
       "      <td>0.070758</td>\n",
       "      <td>0.058415</td>\n",
       "      <td>0.060773</td>\n",
       "      <td>0.060328</td>\n",
       "      <td>0.056446</td>\n",
       "      <td>0.067910</td>\n",
       "      <td>0.066747</td>\n",
       "      <td>0.059233</td>\n",
       "      <td>0.055236</td>\n",
       "      <td>0.040985</td>\n",
       "      <td>0.053568</td>\n",
       "      <td>0.063196</td>\n",
       "      <td>0.054242</td>\n",
       "    </tr>\n",
       "  </tbody>\n",
       "</table>\n",
       "</div>"
      ],
      "text/plain": [
       "   SEX255214  RHI125214  RHI225214  RHI625214  RHI725214  RHI825214  \\\n",
       "0   0.069812   0.047176   0.038755   0.081446   0.052123   0.058306   \n",
       "1   0.045335   0.075424   0.076133   0.073636   0.063798   0.066185   \n",
       "2   0.045232   0.124081   0.152305   0.058251   0.022482   0.074343   \n",
       "3   0.050802   0.057159   0.068486   0.055717   0.070758   0.058415   \n",
       "\n",
       "   POP815213  EDU635213  LFE305213  HSG495213  HSD310213  INC910213  \\\n",
       "0   0.057875   0.085359   0.065200   0.039905   0.059446   0.083528   \n",
       "1   0.054923   0.065842   0.056649   0.056598   0.055054   0.050070   \n",
       "2   0.058101   0.038295   0.015816   0.009031   0.014093   0.031773   \n",
       "3   0.060773   0.060328   0.056446   0.067910   0.066747   0.059233   \n",
       "\n",
       "   PVY020213  SBO415207  RTN131207  LND110210  POP060210  \n",
       "0   0.058375   0.030336   0.046750   0.069325   0.056282  \n",
       "1   0.053984   0.015311   0.050404   0.078507   0.062146  \n",
       "2   0.107314   0.042946   0.127470   0.054636   0.023830  \n",
       "3   0.055236   0.040985   0.053568   0.063196   0.054242  "
      ]
     },
     "execution_count": 294,
     "metadata": {},
     "output_type": "execute_result"
    }
   ],
   "source": [
    "cf[\"fips\"] = fipscodes\n",
    "cf[\"cluster\"] = clusters['cluster']\n",
    "cf[\"winner\"] = winner\n",
    "\n",
    "fi = pd.DataFrame() # create empty dataframe\n",
    "\n",
    "for i in range(0,4):\n",
    "    clustered_facts_grouped = cf[cf[\"cluster\"]==i] # groupby cluster\n",
    "    \n",
    "#     newcf_norm = (cf - cf.mean()) / (cf.max() - cf.min())\n",
    "#     newcf_norm = newcf_norm.div(newcf_norm.sum(axis=1), axis=0)\n",
    "\n",
    "    y = clustered_facts_grouped[\"winner\"]\n",
    "    clustered_facts_grouped = clustered_facts_grouped.drop(['fips', 'cluster', 'winner'], axis=1)\n",
    "\n",
    "    X = clustered_facts_grouped.as_matrix()\n",
    "        \n",
    "    model = ExtraTreesClassifier() \n",
    "    model.fit(X, y) # find which features, in this cluster, were most beneficial to determining the winner\n",
    "\n",
    "    z = pd.Series(model.feature_importances_)\n",
    "    fi = fi.append(z, ignore_index=True)\n",
    "    \n",
    "fi.columns = weka_list\n",
    "fi"
   ]
  },
  {
   "cell_type": "code",
   "execution_count": null,
   "metadata": {
    "collapsed": true
   },
   "outputs": [],
   "source": []
  }
 ],
 "metadata": {
  "kernelspec": {
   "display_name": "Python 2",
   "language": "python",
   "name": "python2"
  },
  "language_info": {
   "codemirror_mode": {
    "name": "ipython",
    "version": 2
   },
   "file_extension": ".py",
   "mimetype": "text/x-python",
   "name": "python",
   "nbconvert_exporter": "python",
   "pygments_lexer": "ipython2",
   "version": "2.7.10"
  }
 },
 "nbformat": 4,
 "nbformat_minor": 0
}
