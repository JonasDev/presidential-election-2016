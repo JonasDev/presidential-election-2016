{
 "cells": [
  {
   "cell_type": "code",
   "execution_count": null,
   "metadata": {
    "collapsed": true
   },
   "outputs": [],
   "source": [
    "# this is the notebook for clustering states according to their demographics\n",
    "# first we will find the most deciding attributes on a state level\n",
    "# then we will rank these attributes (features)\n",
    "# and then we will cluster states"
   ]
  },
  {
   "cell_type": "code",
   "execution_count": 4,
   "metadata": {
    "collapsed": false
   },
   "outputs": [],
   "source": [
    "import pandas as pd\n",
    "import sklearn"
   ]
  },
  {
   "cell_type": "code",
   "execution_count": 5,
   "metadata": {
    "collapsed": true
   },
   "outputs": [],
   "source": [
    "# ranked_dataset is our master dataset that we will cluster over\n",
    "# we clone our original dataset, and replace all values with zero, before replacing them with their rank"
   ]
  },
  {
   "cell_type": "code",
   "execution_count": 13,
   "metadata": {
    "collapsed": false
   },
   "outputs": [
    {
     "name": "stdout",
     "output_type": "stream",
     "text": [
      "['AL' 'AZ' 'AR' 'CA' 'CO' 'CT' 'DE' 'DC' 'FL' 'GA' 'HI' 'ID' 'IL' 'IN' 'IA'\n",
      " 'KS' 'KY' 'LA' nan 'MD' 'MA' 'MI' 'MN' 'MS' 'MO' 'MT' 'NE' 'NV' 'NH' 'NJ'\n",
      " 'NM' 'NC' 'OH' 'OK' 'OR' 'PA' 'RI' 'SC' 'SD' 'TN' 'TX' 'VT' 'VA' 'WV' 'WI']\n"
     ]
    }
   ],
   "source": [
    "cf = pd.read_csv(\"notebooks/county_facts_with_2012_winner.csv\")\n",
    "# cf\n",
    "list_of_states = cf[\"state_abbreviation\"].unique()\n",
    "# print list_of_states"
   ]
  },
  {
   "cell_type": "code",
   "execution_count": null,
   "metadata": {
    "collapsed": true
   },
   "outputs": [],
   "source": [
    "# for each state, find and rank attributes\n",
    "for i in list_of_states:\n",
    "    model = ExtraTreesClassifier()\n",
    "    model.fit(i, i[\"winner\"])\n",
    "    print (model.feature_importances_)\n",
    "    ranked_dataset[[i]][features] = features_importances_\n",
    "    \n",
    "print ranked_dataset"
   ]
  },
  {
   "cell_type": "code",
   "execution_count": null,
   "metadata": {
    "collapsed": true
   },
   "outputs": [],
   "source": [
    "# # Feature Importance\n",
    "# from sklearn import datasets\n",
    "# from sklearn import metrics\n",
    "# from sklearn.ensemble import ExtraTreesClassifier\n",
    "# # load the iris datasets\n",
    "# dataset = datasets.load_iris()\n",
    "# # fit an Extra Trees model to the data\n",
    "# model = ExtraTreesClassifier()\n",
    "# model.fit(dataset.data, dataset.target)\n",
    "# # display the relative importance of each attribute\n",
    "# print(model.feature_importances_)"
   ]
  }
 ],
 "metadata": {
  "kernelspec": {
   "display_name": "Python 2",
   "language": "python",
   "name": "python2"
  },
  "language_info": {
   "codemirror_mode": {
    "name": "ipython",
    "version": 2
   },
   "file_extension": ".py",
   "mimetype": "text/x-python",
   "name": "python",
   "nbconvert_exporter": "python",
   "pygments_lexer": "ipython2",
   "version": "2.7.10"
  }
 },
 "nbformat": 4,
 "nbformat_minor": 0
}
