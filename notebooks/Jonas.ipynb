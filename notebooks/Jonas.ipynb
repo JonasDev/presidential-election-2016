{
 "metadata": {
  "name": "",
  "signature": "sha256:23e9219cf31f65d9e36bb83f1f5011ac05ec827f901d542d7e354d970614c648"
 },
 "nbformat": 3,
 "nbformat_minor": 0,
 "worksheets": [
  {
   "cells": [
    {
     "cell_type": "code",
     "collapsed": false,
     "input": [
      "import pandas as pd\n",
      "df = pd.read_csv('/Users/Jonas/temp/lab4_candidate_contributions.csv')"
     ],
     "language": "python",
     "metadata": {},
     "outputs": []
    }
   ],
   "metadata": {}
  }
 ]
}