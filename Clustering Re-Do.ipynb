{
 "cells": [
  {
   "cell_type": "code",
   "execution_count": 272,
   "metadata": {
    "collapsed": true
   },
   "outputs": [],
   "source": [
    "import pandas as pd\n",
    "import sklearn\n",
    "import numpy as np\n",
    "\n",
    "from sklearn import datasets\n",
    "from sklearn import metrics\n",
    "from sklearn.ensemble import ExtraTreesClassifier\n",
    "\n",
    "from sklearn import metrics\n",
    "from sklearn.metrics import pairwise_distances\n",
    "from sklearn.cluster import KMeans"
   ]
  },
  {
   "cell_type": "code",
   "execution_count": 273,
   "metadata": {
    "collapsed": false
   },
   "outputs": [],
   "source": [
    "cf = pd.read_csv(\"notebooks/county_facts_with_2012_winner.csv\")\n",
    "\n",
    "# get array of fipscodes to later assign as labels by county\n",
    "fipscodes = cf[\"fips\"].values\n",
    "winner = cf[\"winner\"].values"
   ]
  },
  {
   "cell_type": "code",
   "execution_count": 274,
   "metadata": {
    "collapsed": false
   },
   "outputs": [],
   "source": [
    "# list of attributes that are the most important according to weka\n",
    "weka_list = [\"SEX255214\", \"RHI125214\", \"RHI225214\",\"RHI625214\", \"RHI725214\", \n",
    "            \"RHI825214\", \"POP815213\", \"EDU635213\", \"LFE305213\",\"HSG495213\",\n",
    "            \"HSD310213\",\"INC910213\",\"PVY020213\",\"SBO415207\", \"RTN131207\",\"LND110210\", \"POP060210\"]"
   ]
  },
  {
   "cell_type": "code",
   "execution_count": 275,
   "metadata": {
    "collapsed": false
   },
   "outputs": [
    {
     "name": "stdout",
     "output_type": "stream",
     "text": [
      "242\n",
      "1747\n",
      "56\n",
      "912\n"
     ]
    }
   ],
   "source": [
    "# remember the state abbreviations for later (since we need only numeric values)\n",
    "y = cf[\"state_abbreviation\"].values\n",
    "cf = cf.drop(['state_abbreviation'], axis=1)\n",
    "\n",
    "# our table is now only numeric values\n",
    "cf = cf[weka_list]\n",
    "\n",
    "# ???\n",
    "newcf_norm = (cf - cf.mean()) / (cf.max() - cf.min())\n",
    "newcf_norm = newcf_norm.div(newcf_norm.sum(axis=1), axis=0)\n",
    "\n",
    "X = cf.as_matrix() # take our dataframe as numpy matrix\n",
    "kmeans_model = KMeans(n_clusters=4, random_state=1).fit(X) # build model\n",
    "labels = kmeans_model.labels_ # our cluster labels\n",
    "clusters = pd.DataFrame(labels, fipscodes) # our reformed dataset, matching the clusters to the fips codes\n",
    "clusters = clusters.reset_index() \n",
    "clusters.columns = ['fips', 'cluster']\n",
    "clusters # two columns, [fips, cluster]\n",
    "\n",
    "for i in range(0, 4): # print the size of each cluster\n",
    "    print len(clusters.loc[clusters['cluster'] == i])"
   ]
  },
  {
   "cell_type": "code",
   "execution_count": 311,
   "metadata": {
    "collapsed": false
   },
   "outputs": [
    {
     "name": "stdout",
     "output_type": "stream",
     "text": [
      "<bound method Series.sort of SEX255214    0.085416\n",
      "RHI125214    0.061982\n",
      "RHI225214    0.060368\n",
      "RHI625214    0.079238\n",
      "RHI725214    0.042810\n",
      "RHI825214    0.052548\n",
      "POP815213    0.034415\n",
      "EDU635213    0.090666\n",
      "LFE305213    0.083731\n",
      "HSG495213    0.045280\n",
      "HSD310213    0.098120\n",
      "INC910213    0.064470\n",
      "PVY020213    0.049343\n",
      "SBO415207    0.026649\n",
      "RTN131207    0.026774\n",
      "LND110210    0.057848\n",
      "POP060210    0.040341\n",
      "Name: 0, dtype: float64>\n",
      "<bound method Series.sort of SEX255214    0.041558\n",
      "RHI125214    0.074233\n",
      "RHI225214    0.077382\n",
      "RHI625214    0.066464\n",
      "RHI725214    0.074798\n",
      "RHI825214    0.054477\n",
      "POP815213    0.059325\n",
      "EDU635213    0.070821\n",
      "LFE305213    0.055889\n",
      "HSG495213    0.058816\n",
      "HSD310213    0.054814\n",
      "INC910213    0.057203\n",
      "PVY020213    0.052365\n",
      "SBO415207    0.015708\n",
      "RTN131207    0.051399\n",
      "LND110210    0.072865\n",
      "POP060210    0.061883\n",
      "Name: 1, dtype: float64>\n",
      "<bound method Series.sort of SEX255214    0.050894\n",
      "RHI125214    0.077498\n",
      "RHI225214    0.119959\n",
      "RHI625214    0.059790\n",
      "RHI725214    0.043261\n",
      "RHI825214    0.107245\n",
      "POP815213    0.085329\n",
      "EDU635213    0.057920\n",
      "LFE305213    0.036690\n",
      "HSG495213    0.024560\n",
      "HSD310213    0.014783\n",
      "INC910213    0.045000\n",
      "PVY020213    0.080919\n",
      "SBO415207    0.013943\n",
      "RTN131207    0.095389\n",
      "LND110210    0.048096\n",
      "POP060210    0.038723\n",
      "Name: 2, dtype: float64>\n",
      "<bound method Series.sort of SEX255214    0.049465\n",
      "RHI125214    0.055389\n",
      "RHI225214    0.062497\n",
      "RHI625214    0.054874\n",
      "RHI725214    0.069253\n",
      "RHI825214    0.062209\n",
      "POP815213    0.065453\n",
      "EDU635213    0.063953\n",
      "LFE305213    0.056121\n",
      "HSG495213    0.058808\n",
      "HSD310213    0.072650\n",
      "INC910213    0.058213\n",
      "PVY020213    0.060694\n",
      "SBO415207    0.039941\n",
      "RTN131207    0.055975\n",
      "LND110210    0.057946\n",
      "POP060210    0.056559\n",
      "Name: 3, dtype: float64>\n"
     ]
    }
   ],
   "source": [
    "cf[\"fips\"] = fipscodes\n",
    "cf[\"cluster\"] = clusters['cluster']\n",
    "cf[\"winner\"] = winner\n",
    "\n",
    "fi = pd.DataFrame() # create empty dataframe\n",
    "\n",
    "for i in range(0,4):\n",
    "    clustered_facts_grouped = cf[cf[\"cluster\"]==i] # groupby cluster\n",
    "    \n",
    "#     newcf_norm = (cf - cf.mean()) / (cf.max() - cf.min())\n",
    "#     newcf_norm = newcf_norm.div(newcf_norm.sum(axis=1), axis=0)\n",
    "\n",
    "    y = clustered_facts_grouped[\"winner\"]\n",
    "    clustered_facts_grouped = clustered_facts_grouped.drop(['fips', 'cluster', 'winner'], axis=1)\n",
    "\n",
    "    X = clustered_facts_grouped.as_matrix()\n",
    "        \n",
    "    model = ExtraTreesClassifier() \n",
    "    model.fit(X, y) # find which features, in this cluster, were most beneficial to determining the winner\n",
    "\n",
    "    z = pd.Series(model.feature_importances_)\n",
    "    fi = fi.append(z, ignore_index=True)\n",
    "    \n",
    "fi.columns = weka_list\n",
    "for index, row in fi.iterrows():\n",
    "    print row.sort"
   ]
  },
  {
   "cell_type": "code",
   "execution_count": null,
   "metadata": {
    "collapsed": true
   },
   "outputs": [],
   "source": []
  }
 ],
 "metadata": {
  "kernelspec": {
   "display_name": "Python 2",
   "language": "python",
   "name": "python2"
  },
  "language_info": {
   "codemirror_mode": {
    "name": "ipython",
    "version": 2
   },
   "file_extension": ".py",
   "mimetype": "text/x-python",
   "name": "python",
   "nbconvert_exporter": "python",
   "pygments_lexer": "ipython2",
   "version": "2.7.10"
  }
 },
 "nbformat": 4,
 "nbformat_minor": 0
}
